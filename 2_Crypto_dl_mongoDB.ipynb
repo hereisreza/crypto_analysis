{
 "cells": [
  {
   "cell_type": "markdown",
   "metadata": {},
   "source": [
    "## Crypto data downloader"
   ]
  },
  {
   "cell_type": "code",
   "execution_count": 1,
   "metadata": {},
   "outputs": [
    {
     "name": "stdout",
     "output_type": "stream",
     "text": [
      "Pair : BTC-USDT\n"
     ]
    }
   ],
   "source": [
    "starting_date = '2017-01-01T00:00:00Z'\n",
    "ending_date = '2022-04-25T00:00:00Z'\n",
    "pair = 'BTC/USDT'\n",
    "tf = \"1d\"\n",
    "exchange = 'Binance'\n",
    "\n",
    "to_present = True\n",
    "pair_id = pair.split('/')[0] + \"-\" + pair.split('/')[-1]\n",
    "print(\"Pair : \" + pair_id)"
   ]
  },
  {
   "cell_type": "code",
   "execution_count": 2,
   "metadata": {},
   "outputs": [
    {
     "name": "stdout",
     "output_type": "stream",
     "text": [
      "2022-04-27T17:09:25.945Z Loading markets\n",
      "2022-04-27T17:09:25.945Z Markets loaded\n",
      "Fetching candles starting from 2017-01-01T00:00:00.000Z\n",
      "Retrying...\n",
      "Fetching candles starting from 2017-01-01T00:00:00.000Z\n",
      "Retrying...\n",
      "Fetching candles starting from 2017-01-01T00:00:00.000Z\n",
      "Retrying...\n",
      "Fetching candles starting from 2017-01-01T00:00:00.000Z\n",
      "Fetching candles starting from 2018-12-30T00:00:00.000Z\n",
      "Fetching candles starting from 2020-05-13T00:00:00.000Z\n",
      "Fetching candles starting from 2021-09-25T00:00:00.000Z\n"
     ]
    }
   ],
   "source": [
    "import ccxt\n",
    "from datetime import datetime as dt\n",
    "from freqtrade.data.converter import ohlcv_to_dataframe\n",
    "import pandas as pd\n",
    "import time\n",
    "\n",
    "exchange_dict = {'Binance':ccxt.binance(),\n",
    "                'Kucoin':ccxt.kucoin(),\n",
    "                'Coinex':ccxt.coinex(),\n",
    "                'Kraken':ccxt.kraken(),\n",
    "                'Coinbase':ccxt.coinbase()}\n",
    "ex = exchange_dict[exchange]\n",
    "\n",
    "print(ex.iso8601(ex.milliseconds()), 'Loading markets')\n",
    "#markets = ex.load_markets()\n",
    "print(ex.iso8601(ex.milliseconds()), 'Markets loaded')\n",
    "\n",
    "from_timestamp = ex.parse8601(starting_date)\n",
    "if to_present:\n",
    "    now = ex.milliseconds()\n",
    "else:\n",
    "    now = ex.parse8601(ending_date)\n",
    "df_list = []\n",
    "while from_timestamp < now:\n",
    "    print('Fetching candles starting from', ex.iso8601(from_timestamp))\n",
    "    try:\n",
    "        ohlcvs = ex.fetch_ohlcv(pair, tf, from_timestamp)\n",
    "    except:\n",
    "        print(\"Retrying...\")\n",
    "        continue\n",
    "    time.sleep(ex.rateLimit / 1000)\n",
    "    if not len(ohlcvs):\n",
    "        break\n",
    "    from_timestamp = ohlcvs[-1][0] + ex.parse_timeframe(tf) * 1000\n",
    "    df_list.append(ohlcv_to_dataframe(ohlcvs, tf, pair=pair, drop_incomplete=False))"
   ]
  },
  {
   "cell_type": "code",
   "execution_count": 22,
   "metadata": {},
   "outputs": [
    {
     "name": "stdout",
     "output_type": "stream",
     "text": [
      "Starting date : 2017-08-17 00:00:00+00:00\n",
      "Ending date : 2022-04-27 00:00:00+00:00\n",
      "DF is created.\n"
     ]
    }
   ],
   "source": [
    "df = pd.concat(df_list, axis=0)\n",
    "df.reset_index(inplace=True)\n",
    "df.drop('index', axis=1, inplace=True)\n",
    "print('Starting date :', df['date'].iloc[0])\n",
    "print('Ending date :', df['date'].iloc[-1])\n",
    "print('DF is created.')"
   ]
  },
  {
   "cell_type": "code",
   "execution_count": 52,
   "metadata": {},
   "outputs": [
    {
     "name": "stdout",
     "output_type": "stream",
     "text": [
      "DF size:  1715 rows\n"
     ]
    },
    {
     "data": {
      "text/html": [
       "<div>\n",
       "<style scoped>\n",
       "    .dataframe tbody tr th:only-of-type {\n",
       "        vertical-align: middle;\n",
       "    }\n",
       "\n",
       "    .dataframe tbody tr th {\n",
       "        vertical-align: top;\n",
       "    }\n",
       "\n",
       "    .dataframe thead th {\n",
       "        text-align: right;\n",
       "    }\n",
       "</style>\n",
       "<table border=\"1\" class=\"dataframe\">\n",
       "  <thead>\n",
       "    <tr style=\"text-align: right;\">\n",
       "      <th></th>\n",
       "      <th>date</th>\n",
       "      <th>open</th>\n",
       "      <th>high</th>\n",
       "      <th>low</th>\n",
       "      <th>close</th>\n",
       "      <th>volume</th>\n",
       "    </tr>\n",
       "  </thead>\n",
       "  <tbody>\n",
       "    <tr>\n",
       "      <th>0</th>\n",
       "      <td>2017-08-17 00:00:00+00:00</td>\n",
       "      <td>4261.48</td>\n",
       "      <td>4485.39</td>\n",
       "      <td>4200.74</td>\n",
       "      <td>4285.08</td>\n",
       "      <td>795.150377</td>\n",
       "    </tr>\n",
       "    <tr>\n",
       "      <th>1</th>\n",
       "      <td>2017-08-18 00:00:00+00:00</td>\n",
       "      <td>4285.08</td>\n",
       "      <td>4371.52</td>\n",
       "      <td>3938.77</td>\n",
       "      <td>4108.37</td>\n",
       "      <td>1199.888264</td>\n",
       "    </tr>\n",
       "    <tr>\n",
       "      <th>2</th>\n",
       "      <td>2017-08-19 00:00:00+00:00</td>\n",
       "      <td>4108.37</td>\n",
       "      <td>4184.69</td>\n",
       "      <td>3850.00</td>\n",
       "      <td>4139.98</td>\n",
       "      <td>381.309763</td>\n",
       "    </tr>\n",
       "    <tr>\n",
       "      <th>3</th>\n",
       "      <td>2017-08-20 00:00:00+00:00</td>\n",
       "      <td>4120.98</td>\n",
       "      <td>4211.08</td>\n",
       "      <td>4032.62</td>\n",
       "      <td>4086.29</td>\n",
       "      <td>467.083022</td>\n",
       "    </tr>\n",
       "    <tr>\n",
       "      <th>4</th>\n",
       "      <td>2017-08-21 00:00:00+00:00</td>\n",
       "      <td>4069.13</td>\n",
       "      <td>4119.62</td>\n",
       "      <td>3911.79</td>\n",
       "      <td>4016.00</td>\n",
       "      <td>691.743060</td>\n",
       "    </tr>\n",
       "  </tbody>\n",
       "</table>\n",
       "</div>"
      ],
      "text/plain": [
       "                       date     open     high      low    close       volume\n",
       "0 2017-08-17 00:00:00+00:00  4261.48  4485.39  4200.74  4285.08   795.150377\n",
       "1 2017-08-18 00:00:00+00:00  4285.08  4371.52  3938.77  4108.37  1199.888264\n",
       "2 2017-08-19 00:00:00+00:00  4108.37  4184.69  3850.00  4139.98   381.309763\n",
       "3 2017-08-20 00:00:00+00:00  4120.98  4211.08  4032.62  4086.29   467.083022\n",
       "4 2017-08-21 00:00:00+00:00  4069.13  4119.62  3911.79  4016.00   691.743060"
      ]
     },
     "execution_count": 52,
     "metadata": {},
     "output_type": "execute_result"
    }
   ],
   "source": [
    "print('DF size: ', df.shape[0], 'rows')\n",
    "df.head()"
   ]
  },
  {
   "cell_type": "code",
   "execution_count": 55,
   "metadata": {},
   "outputs": [
    {
     "data": {
      "text/html": [
       "<div>\n",
       "<style scoped>\n",
       "    .dataframe tbody tr th:only-of-type {\n",
       "        vertical-align: middle;\n",
       "    }\n",
       "\n",
       "    .dataframe tbody tr th {\n",
       "        vertical-align: top;\n",
       "    }\n",
       "\n",
       "    .dataframe thead th {\n",
       "        text-align: right;\n",
       "    }\n",
       "</style>\n",
       "<table border=\"1\" class=\"dataframe\">\n",
       "  <thead>\n",
       "    <tr style=\"text-align: right;\">\n",
       "      <th></th>\n",
       "      <th>_id</th>\n",
       "      <th>open</th>\n",
       "      <th>high</th>\n",
       "      <th>low</th>\n",
       "      <th>close</th>\n",
       "      <th>volume</th>\n",
       "    </tr>\n",
       "  </thead>\n",
       "  <tbody>\n",
       "    <tr>\n",
       "      <th>0</th>\n",
       "      <td>2017-08-17 00:00:00+00:00</td>\n",
       "      <td>4261.48</td>\n",
       "      <td>4485.39</td>\n",
       "      <td>4200.74</td>\n",
       "      <td>4285.08</td>\n",
       "      <td>795.150377</td>\n",
       "    </tr>\n",
       "    <tr>\n",
       "      <th>1</th>\n",
       "      <td>2017-08-18 00:00:00+00:00</td>\n",
       "      <td>4285.08</td>\n",
       "      <td>4371.52</td>\n",
       "      <td>3938.77</td>\n",
       "      <td>4108.37</td>\n",
       "      <td>1199.888264</td>\n",
       "    </tr>\n",
       "    <tr>\n",
       "      <th>2</th>\n",
       "      <td>2017-08-19 00:00:00+00:00</td>\n",
       "      <td>4108.37</td>\n",
       "      <td>4184.69</td>\n",
       "      <td>3850.00</td>\n",
       "      <td>4139.98</td>\n",
       "      <td>381.309763</td>\n",
       "    </tr>\n",
       "    <tr>\n",
       "      <th>3</th>\n",
       "      <td>2017-08-20 00:00:00+00:00</td>\n",
       "      <td>4120.98</td>\n",
       "      <td>4211.08</td>\n",
       "      <td>4032.62</td>\n",
       "      <td>4086.29</td>\n",
       "      <td>467.083022</td>\n",
       "    </tr>\n",
       "    <tr>\n",
       "      <th>4</th>\n",
       "      <td>2017-08-21 00:00:00+00:00</td>\n",
       "      <td>4069.13</td>\n",
       "      <td>4119.62</td>\n",
       "      <td>3911.79</td>\n",
       "      <td>4016.00</td>\n",
       "      <td>691.743060</td>\n",
       "    </tr>\n",
       "  </tbody>\n",
       "</table>\n",
       "</div>"
      ],
      "text/plain": [
       "                        _id     open     high      low    close       volume\n",
       "0 2017-08-17 00:00:00+00:00  4261.48  4485.39  4200.74  4285.08   795.150377\n",
       "1 2017-08-18 00:00:00+00:00  4285.08  4371.52  3938.77  4108.37  1199.888264\n",
       "2 2017-08-19 00:00:00+00:00  4108.37  4184.69  3850.00  4139.98   381.309763\n",
       "3 2017-08-20 00:00:00+00:00  4120.98  4211.08  4032.62  4086.29   467.083022\n",
       "4 2017-08-21 00:00:00+00:00  4069.13  4119.62  3911.79  4016.00   691.743060"
      ]
     },
     "execution_count": 55,
     "metadata": {},
     "output_type": "execute_result"
    }
   ],
   "source": [
    "df.columns = [\"_id\", \"open\", \"high\", \"low\", \"close\", \"volume\"]\n",
    "df.head()"
   ]
  },
  {
   "cell_type": "code",
   "execution_count": 76,
   "metadata": {},
   "outputs": [
    {
     "data": {
      "text/plain": [
       "[{'_id': Timestamp('2022-04-23 00:00:00+0000', tz='UTC'),\n",
       "  'open': 39709.19,\n",
       "  'high': 39980.0,\n",
       "  'low': 39285.0,\n",
       "  'close': 39441.6,\n",
       "  'volume': 20291.42375},\n",
       " {'_id': Timestamp('2022-04-24 00:00:00+0000', tz='UTC'),\n",
       "  'open': 39441.61,\n",
       "  'high': 39940.0,\n",
       "  'low': 38929.62,\n",
       "  'close': 39450.13,\n",
       "  'volume': 26703.61186},\n",
       " {'_id': Timestamp('2022-04-25 00:00:00+0000', tz='UTC'),\n",
       "  'open': 39450.12,\n",
       "  'high': 40616.0,\n",
       "  'low': 38200.0,\n",
       "  'close': 40426.08,\n",
       "  'volume': 63037.12784},\n",
       " {'_id': Timestamp('2022-04-26 00:00:00+0000', tz='UTC'),\n",
       "  'open': 40426.08,\n",
       "  'high': 40797.31,\n",
       "  'low': 37702.26,\n",
       "  'close': 38112.65,\n",
       "  'volume': 66650.258},\n",
       " {'_id': Timestamp('2022-04-27 00:00:00+0000', tz='UTC'),\n",
       "  'open': 38112.64,\n",
       "  'high': 39474.72,\n",
       "  'low': 37881.31,\n",
       "  'close': 39145.71,\n",
       "  'volume': 46360.89716}]"
      ]
     },
     "execution_count": 76,
     "metadata": {},
     "output_type": "execute_result"
    }
   ],
   "source": [
    "df_dict = df.to_dict(\"records\")\n",
    "df_dict[-5:]"
   ]
  },
  {
   "cell_type": "code",
   "execution_count": 77,
   "metadata": {},
   "outputs": [],
   "source": [
    "#Mongodb init:\n",
    "# https://www.w3schools.com/python/python_mongodb_getstarted.asp\n",
    "# https://www.mongodb.com/try/download/community\n",
    "import pymongo"
   ]
  },
  {
   "cell_type": "code",
   "execution_count": 78,
   "metadata": {},
   "outputs": [],
   "source": [
    "myclient = pymongo.MongoClient(\"mongodb://localhost:27017/\")\n",
    "mydb = myclient[\"fin_db\"]\n",
    "mycol = mydb[pair]\n",
    "\n",
    "x = mycol.insert_many(df_dict)\n",
    "\n",
    "#print list of the _id values of the inserted documents:\n",
    "#print(x.inserted_ids)"
   ]
  },
  {
   "cell_type": "code",
   "execution_count": 79,
   "metadata": {},
   "outputs": [
    {
     "name": "stdout",
     "output_type": "stream",
     "text": [
      "collection list: ['BTC/USDT']\n",
      "The collection exists.\n"
     ]
    }
   ],
   "source": [
    "collist = mydb.list_collection_names()\n",
    "print(\"collection list:\", collist)\n",
    "if pair in collist:\n",
    "  print(\"The collection exists.\")"
   ]
  },
  {
   "cell_type": "code",
   "execution_count": 80,
   "metadata": {},
   "outputs": [
    {
     "name": "stdout",
     "output_type": "stream",
     "text": [
      "{'_id': datetime.datetime(2022, 4, 27, 0, 0), 'open': 38112.64, 'high': 39474.72, 'low': 37881.31, 'close': 39145.71, 'volume': 46360.89716}\n"
     ]
    }
   ],
   "source": [
    "# Find:\n",
    "for x in mycol.find({\"volume\":46360.89716}):\n",
    "  print(x)"
   ]
  },
  {
   "cell_type": "code",
   "execution_count": 81,
   "metadata": {},
   "outputs": [
    {
     "name": "stdout",
     "output_type": "stream",
     "text": [
      "{'_id': datetime.datetime(2022, 4, 27, 0, 0), 'open': 38112.64, 'high': 39474.72, 'low': 37881.31, 'close': 39145.71, 'volume': 46360.89716}\n"
     ]
    }
   ],
   "source": [
    "myquery = { \"_id\": dt(2022, 4, 27, 0, 0) }\n",
    "\n",
    "mydoc = mycol.find(myquery)\n",
    "\n",
    "for x in mydoc:\n",
    "  print(x)"
   ]
  },
  {
   "cell_type": "code",
   "execution_count": 82,
   "metadata": {},
   "outputs": [],
   "source": [
    "for x in mycol.find():\n",
    "   pass \n",
    "   #print(x)"
   ]
  },
  {
   "cell_type": "code",
   "execution_count": 75,
   "metadata": {},
   "outputs": [],
   "source": [
    "# Delete a Table or collection:\n",
    "myclient = pymongo.MongoClient(\"mongodb://localhost:27017/\")\n",
    "mydb = myclient[\"fin_db\"]\n",
    "mycol = mydb[pair]\n",
    "\n",
    "mycol.drop()"
   ]
  },
  {
   "cell_type": "code",
   "execution_count": 55,
   "metadata": {},
   "outputs": [],
   "source": []
  },
  {
   "cell_type": "code",
   "execution_count": null,
   "metadata": {},
   "outputs": [],
   "source": []
  }
 ],
 "metadata": {
  "kernelspec": {
   "display_name": "Python 3 (ipykernel)",
   "language": "python",
   "name": "python3"
  },
  "language_info": {
   "codemirror_mode": {
    "name": "ipython",
    "version": 3
   },
   "file_extension": ".py",
   "mimetype": "text/x-python",
   "name": "python",
   "nbconvert_exporter": "python",
   "pygments_lexer": "ipython3",
   "version": "3.9.7"
  }
 },
 "nbformat": 4,
 "nbformat_minor": 4
}
