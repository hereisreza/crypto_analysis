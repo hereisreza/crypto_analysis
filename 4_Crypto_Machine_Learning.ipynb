{
 "cells": [
  {
   "cell_type": "markdown",
   "metadata": {},
   "source": [
    "## Crypto and Machine Learning"
   ]
  },
  {
   "cell_type": "code",
   "execution_count": 109,
   "metadata": {},
   "outputs": [
    {
     "name": "stdout",
     "output_type": "stream",
     "text": [
      "Pair : BTC-USDT\n"
     ]
    }
   ],
   "source": [
    "starting_date = '2017-01-01T00:00:00Z'\n",
    "ending_date = '2022-04-29T00:00:00Z'\n",
    "pair = 'BTC/USDT'\n",
    "tf = \"1d\"\n",
    "exchange = 'Binance'\n",
    "\n",
    "to_present = True\n",
    "pair_id = pair.split('/')[0] + \"-\" + pair.split('/')[-1]\n",
    "print(\"Pair : \" + pair_id)"
   ]
  },
  {
   "cell_type": "code",
   "execution_count": 110,
   "metadata": {},
   "outputs": [
    {
     "name": "stdout",
     "output_type": "stream",
     "text": [
      "2022-04-29T06:31:10.822Z Loading markets\n",
      "2022-04-29T06:31:10.822Z Markets loaded\n",
      "Fetching candles starting from 2017-01-01T00:00:00.000Z\n",
      "Fetching candles starting from 2018-12-30T00:00:00.000Z\n",
      "Fetching candles starting from 2020-05-13T00:00:00.000Z\n",
      "Fetching candles starting from 2021-09-25T00:00:00.000Z\n"
     ]
    }
   ],
   "source": [
    "import ccxt\n",
    "from datetime import datetime as dt\n",
    "from freqtrade.data.converter import ohlcv_to_dataframe\n",
    "import pandas as pd\n",
    "import time\n",
    "\n",
    "exchange_dict = {'Binance':ccxt.binance(),\n",
    "                'Kucoin':ccxt.kucoin(),\n",
    "                'Coinex':ccxt.coinex(),\n",
    "                'Kraken':ccxt.kraken(),\n",
    "                'Coinbase':ccxt.coinbase()}\n",
    "ex = exchange_dict[exchange]\n",
    "\n",
    "print(ex.iso8601(ex.milliseconds()), 'Loading markets')\n",
    "#markets = ex.load_markets()\n",
    "print(ex.iso8601(ex.milliseconds()), 'Markets loaded')\n",
    "\n",
    "from_timestamp = ex.parse8601(starting_date)\n",
    "if to_present:\n",
    "    now = ex.milliseconds()\n",
    "else:\n",
    "    now = ex.parse8601(ending_date)\n",
    "df_list = []\n",
    "while from_timestamp < now:\n",
    "    print('Fetching candles starting from', ex.iso8601(from_timestamp))\n",
    "    try:\n",
    "        ohlcvs = ex.fetch_ohlcv(pair, tf, from_timestamp)\n",
    "    except:\n",
    "        print(\"Retrying...\")\n",
    "        continue\n",
    "    time.sleep(ex.rateLimit / 1000)\n",
    "    if not len(ohlcvs):\n",
    "        break\n",
    "    from_timestamp = ohlcvs[-1][0] + ex.parse_timeframe(tf) * 1000\n",
    "    df_list.append(ohlcv_to_dataframe(ohlcvs, tf, pair=pair, drop_incomplete=False))"
   ]
  },
  {
   "cell_type": "code",
   "execution_count": 160,
   "metadata": {},
   "outputs": [
    {
     "name": "stdout",
     "output_type": "stream",
     "text": [
      "Starting date : 2017-08-17 00:00:00+00:00\n",
      "Ending date : 2022-04-29 00:00:00+00:00\n",
      "DF is created.\n",
      "DF size:  1717 rows\n"
     ]
    },
    {
     "data": {
      "text/html": [
       "<div>\n",
       "<style scoped>\n",
       "    .dataframe tbody tr th:only-of-type {\n",
       "        vertical-align: middle;\n",
       "    }\n",
       "\n",
       "    .dataframe tbody tr th {\n",
       "        vertical-align: top;\n",
       "    }\n",
       "\n",
       "    .dataframe thead th {\n",
       "        text-align: right;\n",
       "    }\n",
       "</style>\n",
       "<table border=\"1\" class=\"dataframe\">\n",
       "  <thead>\n",
       "    <tr style=\"text-align: right;\">\n",
       "      <th></th>\n",
       "      <th>open_BTC/USDT</th>\n",
       "      <th>high_BTC/USDT</th>\n",
       "      <th>low_BTC/USDT</th>\n",
       "      <th>close_BTC/USDT</th>\n",
       "    </tr>\n",
       "    <tr>\n",
       "      <th>date</th>\n",
       "      <th></th>\n",
       "      <th></th>\n",
       "      <th></th>\n",
       "      <th></th>\n",
       "    </tr>\n",
       "  </thead>\n",
       "  <tbody>\n",
       "    <tr>\n",
       "      <th>2017-08-17 00:00</th>\n",
       "      <td>4261.48</td>\n",
       "      <td>4485.39</td>\n",
       "      <td>4200.74</td>\n",
       "      <td>4285.08</td>\n",
       "    </tr>\n",
       "    <tr>\n",
       "      <th>2017-08-18 00:00</th>\n",
       "      <td>4285.08</td>\n",
       "      <td>4371.52</td>\n",
       "      <td>3938.77</td>\n",
       "      <td>4108.37</td>\n",
       "    </tr>\n",
       "    <tr>\n",
       "      <th>2017-08-19 00:00</th>\n",
       "      <td>4108.37</td>\n",
       "      <td>4184.69</td>\n",
       "      <td>3850.00</td>\n",
       "      <td>4139.98</td>\n",
       "    </tr>\n",
       "    <tr>\n",
       "      <th>2017-08-20 00:00</th>\n",
       "      <td>4120.98</td>\n",
       "      <td>4211.08</td>\n",
       "      <td>4032.62</td>\n",
       "      <td>4086.29</td>\n",
       "    </tr>\n",
       "    <tr>\n",
       "      <th>2017-08-21 00:00</th>\n",
       "      <td>4069.13</td>\n",
       "      <td>4119.62</td>\n",
       "      <td>3911.79</td>\n",
       "      <td>4016.00</td>\n",
       "    </tr>\n",
       "  </tbody>\n",
       "</table>\n",
       "</div>"
      ],
      "text/plain": [
       "                  open_BTC/USDT  high_BTC/USDT  low_BTC/USDT  close_BTC/USDT\n",
       "date                                                                        \n",
       "2017-08-17 00:00        4261.48        4485.39       4200.74         4285.08\n",
       "2017-08-18 00:00        4285.08        4371.52       3938.77         4108.37\n",
       "2017-08-19 00:00        4108.37        4184.69       3850.00         4139.98\n",
       "2017-08-20 00:00        4120.98        4211.08       4032.62         4086.29\n",
       "2017-08-21 00:00        4069.13        4119.62       3911.79         4016.00"
      ]
     },
     "execution_count": 160,
     "metadata": {},
     "output_type": "execute_result"
    }
   ],
   "source": [
    "df = pd.concat(df_list, axis=0)\n",
    "df.reset_index(inplace=True)\n",
    "df.drop('index', axis=1, inplace=True)\n",
    "print('Starting date :', df['date'].iloc[0])\n",
    "print('Ending date :', df['date'].iloc[-1])\n",
    "print('DF is created.')\n",
    "print('DF size: ', df.shape[0], 'rows')\n",
    "df.head()\n",
    "\n",
    "df.columns = [\"date\", \"open_\"+pair, \"high_\"+pair, \"low_\"+pair, \"close_\"+pair, \"volume_\"+pair]\n",
    "df[\"date\"] = pd.to_datetime(df[\"date\"],format='%Y-%m-%d%H:%M').dt.strftime('%Y-%m-%d %H:%M')\n",
    "df.sort_values(by=\"date\", inplace=True)\n",
    "df.drop(\"volume_\"+pair, inplace=True, axis=1)\n",
    "df.set_index(\"date\", inplace=True)\n",
    "df.head()"
   ]
  },
  {
   "cell_type": "code",
   "execution_count": 205,
   "metadata": {},
   "outputs": [
    {
     "name": "stdout",
     "output_type": "stream",
     "text": [
      "count    1717.000000\n",
      "mean        0.002193\n",
      "std         0.041707\n",
      "min        -0.395053\n",
      "25%        -0.016096\n",
      "50%         0.001771\n",
      "75%         0.019728\n",
      "max         0.225832\n",
      "dtype: float64\n"
     ]
    },
    {
     "data": {
      "text/html": [
       "<div>\n",
       "<style scoped>\n",
       "    .dataframe tbody tr th:only-of-type {\n",
       "        vertical-align: middle;\n",
       "    }\n",
       "\n",
       "    .dataframe tbody tr th {\n",
       "        vertical-align: top;\n",
       "    }\n",
       "\n",
       "    .dataframe thead th {\n",
       "        text-align: right;\n",
       "    }\n",
       "</style>\n",
       "<table border=\"1\" class=\"dataframe\">\n",
       "  <thead>\n",
       "    <tr style=\"text-align: right;\">\n",
       "      <th></th>\n",
       "      <th>open_BTC/USDT</th>\n",
       "      <th>high_BTC/USDT</th>\n",
       "      <th>low_BTC/USDT</th>\n",
       "      <th>close_BTC/USDT</th>\n",
       "      <th>ret_BTC/USDT</th>\n",
       "    </tr>\n",
       "    <tr>\n",
       "      <th>date</th>\n",
       "      <th></th>\n",
       "      <th></th>\n",
       "      <th></th>\n",
       "      <th></th>\n",
       "      <th></th>\n",
       "    </tr>\n",
       "  </thead>\n",
       "  <tbody>\n",
       "    <tr>\n",
       "      <th>2017-08-17 00:00</th>\n",
       "      <td>4261.48</td>\n",
       "      <td>4485.39</td>\n",
       "      <td>4200.74</td>\n",
       "      <td>4285.08</td>\n",
       "      <td>0.005538</td>\n",
       "    </tr>\n",
       "    <tr>\n",
       "      <th>2017-08-18 00:00</th>\n",
       "      <td>4285.08</td>\n",
       "      <td>4371.52</td>\n",
       "      <td>3938.77</td>\n",
       "      <td>4108.37</td>\n",
       "      <td>-0.041238</td>\n",
       "    </tr>\n",
       "    <tr>\n",
       "      <th>2017-08-19 00:00</th>\n",
       "      <td>4108.37</td>\n",
       "      <td>4184.69</td>\n",
       "      <td>3850.00</td>\n",
       "      <td>4139.98</td>\n",
       "      <td>0.007694</td>\n",
       "    </tr>\n",
       "    <tr>\n",
       "      <th>2017-08-20 00:00</th>\n",
       "      <td>4120.98</td>\n",
       "      <td>4211.08</td>\n",
       "      <td>4032.62</td>\n",
       "      <td>4086.29</td>\n",
       "      <td>-0.008418</td>\n",
       "    </tr>\n",
       "    <tr>\n",
       "      <th>2017-08-21 00:00</th>\n",
       "      <td>4069.13</td>\n",
       "      <td>4119.62</td>\n",
       "      <td>3911.79</td>\n",
       "      <td>4016.00</td>\n",
       "      <td>-0.013057</td>\n",
       "    </tr>\n",
       "  </tbody>\n",
       "</table>\n",
       "</div>"
      ],
      "text/plain": [
       "                  open_BTC/USDT  high_BTC/USDT  low_BTC/USDT  close_BTC/USDT  \\\n",
       "date                                                                           \n",
       "2017-08-17 00:00        4261.48        4485.39       4200.74         4285.08   \n",
       "2017-08-18 00:00        4285.08        4371.52       3938.77         4108.37   \n",
       "2017-08-19 00:00        4108.37        4184.69       3850.00         4139.98   \n",
       "2017-08-20 00:00        4120.98        4211.08       4032.62         4086.29   \n",
       "2017-08-21 00:00        4069.13        4119.62       3911.79         4016.00   \n",
       "\n",
       "                  ret_BTC/USDT  \n",
       "date                            \n",
       "2017-08-17 00:00      0.005538  \n",
       "2017-08-18 00:00     -0.041238  \n",
       "2017-08-19 00:00      0.007694  \n",
       "2017-08-20 00:00     -0.008418  \n",
       "2017-08-21 00:00     -0.013057  "
      ]
     },
     "execution_count": 205,
     "metadata": {},
     "output_type": "execute_result"
    }
   ],
   "source": [
    "# Daily return:\n",
    "import numpy as np\n",
    "ret = df[\"close_\"+pair] / df[\"open_\"+pair] - 1\n",
    "print(ret.describe())\n",
    "df['ret_'+pair] = ret\n",
    "ret = ret.values\n",
    "df.head()"
   ]
  },
  {
   "cell_type": "code",
   "execution_count": 211,
   "metadata": {},
   "outputs": [
    {
     "name": "stdout",
     "output_type": "stream",
     "text": [
      "Daily Returns clustered: 192big, 1336medium, 189small.\n"
     ]
    }
   ],
   "source": [
    "n_dev = 1\n",
    "\n",
    "def cluster(r, ret=ret):\n",
    "    if r >= (ret.mean() + n_dev*ret.std()):\n",
    "        return 1\n",
    "    if r <= (ret.mean() - n_dev*ret.std()):\n",
    "        return -1\n",
    "    return 0\n",
    "\n",
    "df[\"clustered\"] = 0\n",
    "df[\"clustered\"] = df['ret_'+pair].apply(cluster)\n",
    "print(f\"Daily Returns clustered: {sum(df['clustered']==1)}big, {sum(df['clustered']==0)}medium, {sum(df['clustered']==-1)}small.\")"
   ]
  },
  {
   "cell_type": "code",
   "execution_count": 213,
   "metadata": {},
   "outputs": [
    {
     "data": {
      "text/html": [
       "<div>\n",
       "<style scoped>\n",
       "    .dataframe tbody tr th:only-of-type {\n",
       "        vertical-align: middle;\n",
       "    }\n",
       "\n",
       "    .dataframe tbody tr th {\n",
       "        vertical-align: top;\n",
       "    }\n",
       "\n",
       "    .dataframe thead th {\n",
       "        text-align: right;\n",
       "    }\n",
       "</style>\n",
       "<table border=\"1\" class=\"dataframe\">\n",
       "  <thead>\n",
       "    <tr style=\"text-align: right;\">\n",
       "      <th></th>\n",
       "      <th>open_BTC/USDT</th>\n",
       "      <th>high_BTC/USDT</th>\n",
       "      <th>low_BTC/USDT</th>\n",
       "      <th>close_BTC/USDT</th>\n",
       "      <th>ret_BTC/USDT</th>\n",
       "      <th>clustered</th>\n",
       "    </tr>\n",
       "    <tr>\n",
       "      <th>date</th>\n",
       "      <th></th>\n",
       "      <th></th>\n",
       "      <th></th>\n",
       "      <th></th>\n",
       "      <th></th>\n",
       "      <th></th>\n",
       "    </tr>\n",
       "  </thead>\n",
       "  <tbody>\n",
       "    <tr>\n",
       "      <th>2017-08-17 00:00</th>\n",
       "      <td>4261.48</td>\n",
       "      <td>4485.39</td>\n",
       "      <td>4200.74</td>\n",
       "      <td>4285.08</td>\n",
       "      <td>0.005538</td>\n",
       "      <td>0</td>\n",
       "    </tr>\n",
       "    <tr>\n",
       "      <th>2017-08-18 00:00</th>\n",
       "      <td>4285.08</td>\n",
       "      <td>4371.52</td>\n",
       "      <td>3938.77</td>\n",
       "      <td>4108.37</td>\n",
       "      <td>-0.041238</td>\n",
       "      <td>-1</td>\n",
       "    </tr>\n",
       "    <tr>\n",
       "      <th>2017-08-19 00:00</th>\n",
       "      <td>4108.37</td>\n",
       "      <td>4184.69</td>\n",
       "      <td>3850.00</td>\n",
       "      <td>4139.98</td>\n",
       "      <td>0.007694</td>\n",
       "      <td>0</td>\n",
       "    </tr>\n",
       "    <tr>\n",
       "      <th>2017-08-20 00:00</th>\n",
       "      <td>4120.98</td>\n",
       "      <td>4211.08</td>\n",
       "      <td>4032.62</td>\n",
       "      <td>4086.29</td>\n",
       "      <td>-0.008418</td>\n",
       "      <td>0</td>\n",
       "    </tr>\n",
       "    <tr>\n",
       "      <th>2017-08-21 00:00</th>\n",
       "      <td>4069.13</td>\n",
       "      <td>4119.62</td>\n",
       "      <td>3911.79</td>\n",
       "      <td>4016.00</td>\n",
       "      <td>-0.013057</td>\n",
       "      <td>0</td>\n",
       "    </tr>\n",
       "    <tr>\n",
       "      <th>...</th>\n",
       "      <td>...</td>\n",
       "      <td>...</td>\n",
       "      <td>...</td>\n",
       "      <td>...</td>\n",
       "      <td>...</td>\n",
       "      <td>...</td>\n",
       "    </tr>\n",
       "    <tr>\n",
       "      <th>2022-04-25 00:00</th>\n",
       "      <td>39450.12</td>\n",
       "      <td>40616.00</td>\n",
       "      <td>38200.00</td>\n",
       "      <td>40426.08</td>\n",
       "      <td>0.024739</td>\n",
       "      <td>0</td>\n",
       "    </tr>\n",
       "    <tr>\n",
       "      <th>2022-04-26 00:00</th>\n",
       "      <td>40426.08</td>\n",
       "      <td>40797.31</td>\n",
       "      <td>37702.26</td>\n",
       "      <td>38112.65</td>\n",
       "      <td>-0.057226</td>\n",
       "      <td>-1</td>\n",
       "    </tr>\n",
       "    <tr>\n",
       "      <th>2022-04-27 00:00</th>\n",
       "      <td>38112.64</td>\n",
       "      <td>39474.72</td>\n",
       "      <td>37881.31</td>\n",
       "      <td>39235.72</td>\n",
       "      <td>0.029467</td>\n",
       "      <td>0</td>\n",
       "    </tr>\n",
       "    <tr>\n",
       "      <th>2022-04-28 00:00</th>\n",
       "      <td>39235.72</td>\n",
       "      <td>40372.63</td>\n",
       "      <td>38881.43</td>\n",
       "      <td>39742.07</td>\n",
       "      <td>0.012905</td>\n",
       "      <td>0</td>\n",
       "    </tr>\n",
       "    <tr>\n",
       "      <th>2022-04-29 00:00</th>\n",
       "      <td>39742.06</td>\n",
       "      <td>39925.25</td>\n",
       "      <td>39286.01</td>\n",
       "      <td>39490.03</td>\n",
       "      <td>-0.006342</td>\n",
       "      <td>0</td>\n",
       "    </tr>\n",
       "  </tbody>\n",
       "</table>\n",
       "<p>1717 rows × 6 columns</p>\n",
       "</div>"
      ],
      "text/plain": [
       "                  open_BTC/USDT  high_BTC/USDT  low_BTC/USDT  close_BTC/USDT  \\\n",
       "date                                                                           \n",
       "2017-08-17 00:00        4261.48        4485.39       4200.74         4285.08   \n",
       "2017-08-18 00:00        4285.08        4371.52       3938.77         4108.37   \n",
       "2017-08-19 00:00        4108.37        4184.69       3850.00         4139.98   \n",
       "2017-08-20 00:00        4120.98        4211.08       4032.62         4086.29   \n",
       "2017-08-21 00:00        4069.13        4119.62       3911.79         4016.00   \n",
       "...                         ...            ...           ...             ...   \n",
       "2022-04-25 00:00       39450.12       40616.00      38200.00        40426.08   \n",
       "2022-04-26 00:00       40426.08       40797.31      37702.26        38112.65   \n",
       "2022-04-27 00:00       38112.64       39474.72      37881.31        39235.72   \n",
       "2022-04-28 00:00       39235.72       40372.63      38881.43        39742.07   \n",
       "2022-04-29 00:00       39742.06       39925.25      39286.01        39490.03   \n",
       "\n",
       "                  ret_BTC/USDT  clustered  \n",
       "date                                       \n",
       "2017-08-17 00:00      0.005538          0  \n",
       "2017-08-18 00:00     -0.041238         -1  \n",
       "2017-08-19 00:00      0.007694          0  \n",
       "2017-08-20 00:00     -0.008418          0  \n",
       "2017-08-21 00:00     -0.013057          0  \n",
       "...                        ...        ...  \n",
       "2022-04-25 00:00      0.024739          0  \n",
       "2022-04-26 00:00     -0.057226         -1  \n",
       "2022-04-27 00:00      0.029467          0  \n",
       "2022-04-28 00:00      0.012905          0  \n",
       "2022-04-29 00:00     -0.006342          0  \n",
       "\n",
       "[1717 rows x 6 columns]"
      ]
     },
     "execution_count": 213,
     "metadata": {},
     "output_type": "execute_result"
    }
   ],
   "source": [
    "df"
   ]
  },
  {
   "cell_type": "code",
   "execution_count": 487,
   "metadata": {},
   "outputs": [
    {
     "name": "stdout",
     "output_type": "stream",
     "text": [
      "Shape of x: (1713, 4), Shape of y: (1713,)\n",
      "Shape of x_train: (1199, 4), Shape of y_train: (1199,), Shape of y_train_real: (1199,)\n",
      "Shape of x_test: (514, 4), Shape of y_test: (514,), Shape of y_test_real: (514,)\n"
     ]
    }
   ],
   "source": [
    "# https://scikit-learn.org/stable/modules/generated/sklearn.model_selection.train_test_split.html\n",
    "from sklearn.model_selection import train_test_split\n",
    "\n",
    "n_input = 4 \n",
    "\n",
    "x_list = []\n",
    "y_list = []\n",
    "y_real_list = []  # for real returns instead of -1, 0, 1.\n",
    "for i in range(df['ret_'+pair].values.shape[0]-n_input):\n",
    "    x_list.append(df['ret_'+pair].values[i:i+n_input])\n",
    "    y_list.append(df['clustered'].values[i+n_input])\n",
    "    y_real_list.append(df['ret_'+pair].values[i+n_input])\n",
    "x, y, y_real = np.array(x_list), np.array(y_list), np.array(y_real_list) \n",
    "\n",
    "x_train, x_test, y_train, y_test = train_test_split(x * 100, y, test_size=0.3, random_state=101)\n",
    "dummy, dummy_, y_real_train, y_real_test = train_test_split(x, y_real, test_size=0.3, random_state=101)\n",
    "\n",
    "print(f\"Shape of x: {x.shape}, Shape of y: {y.shape}\")\n",
    "print(f\"Shape of x_train: {x_train.shape}, Shape of y_train: {y_train.shape}, Shape of y_train_real: {y_real_train.shape}\")\n",
    "print(f\"Shape of x_test: {x_test.shape}, Shape of y_test: {y_test.shape}, Shape of y_test_real: {y_real_test.shape}\")"
   ]
  },
  {
   "cell_type": "code",
   "execution_count": 497,
   "metadata": {},
   "outputs": [
    {
     "data": {
      "text/plain": [
       "MLPRegressor(hidden_layer_sizes=(4, 8, 4), max_iter=5000, random_state=101,\n",
       "             shuffle=False, solver='lbfgs')"
      ]
     },
     "execution_count": 497,
     "metadata": {},
     "output_type": "execute_result"
    }
   ],
   "source": [
    "# Define a simple model:\n",
    "from sklearn.neural_network import MLPRegressor\n",
    "model = MLPRegressor(hidden_layer_sizes=(4, 8, 4, ), activation='relu'\n",
    "                     , max_iter=5000, shuffle=False, solver='lbfgs', random_state=101)\n",
    "model"
   ]
  },
  {
   "cell_type": "code",
   "execution_count": 498,
   "metadata": {},
   "outputs": [
    {
     "data": {
      "text/plain": [
       "MLPRegressor(hidden_layer_sizes=(4, 8, 4), max_iter=5000, random_state=101,\n",
       "             shuffle=False, solver='lbfgs')"
      ]
     },
     "execution_count": 498,
     "metadata": {},
     "output_type": "execute_result"
    }
   ],
   "source": [
    "model.fit(x_train, y_train)"
   ]
  },
  {
   "cell_type": "code",
   "execution_count": 499,
   "metadata": {},
   "outputs": [
    {
     "name": "stdout",
     "output_type": "stream",
     "text": [
      "From 1199 predictions:     42 positive     and 109 Negetive\n",
      "With dev=1.5 confidence level,  13 % of predictions are confident enough\n",
      "Results on train data: 30TP, 12FP, 65TN, 44FN\n",
      "Accuracy = 62.9%\n",
      "This Strategy returns 304% Profit.\n"
     ]
    }
   ],
   "source": [
    "# Predict the Train data\n",
    "n_dev_y = 1.5 # confidence level\n",
    "y_train_predicted = model.predict(x_train)\n",
    "y_up = y_train_predicted.mean() + n_dev_y*y_train_predicted.std()\n",
    "y_down = y_train_predicted.mean() - n_dev_y*y_train_predicted.std()\n",
    "print(f\"From {y_train_predicted.shape[0]} predictions: \\\n",
    "    {sum(y_train_predicted>y_up)} positive \\\n",
    "    and {sum(y_train_predicted<y_down)} Negetive\")\n",
    "\n",
    "true_neg , false_neg, true_pos, false_pos = 0, 0, 0, 0\n",
    "predicted_return = 0\n",
    "for i in range(x_train.shape[0]):\n",
    "    if y_train_predicted[i] > y_up or y_train_predicted[i] < y_down:\n",
    "        #print(f\"y={round(y_real_train[i], 1)} predicted={round(y_train_predicted[i], 1)}\")\n",
    "        if y_train_predicted[i] > y_up:\n",
    "            predicted_return += y_real_train[i]\n",
    "            if y_real_train[i] > 0: true_pos += 1 \n",
    "            elif y_real_train[i] < 0: false_pos += 1\n",
    "        if y_train_predicted[i] < y_down:\n",
    "            predicted_return -= y_real_train[i]\n",
    "            if y_real_train[i] < 0: true_neg += 1 \n",
    "            elif y_real_train[i] > 0: false_neg += 1\n",
    "print(f\"With dev={n_dev_y} confidence level, \"\n",
    "      , f\"{round((sum(y_train_predicted>y_up)+ sum(y_train_predicted<y_down)) / y_train_predicted.shape[0] *100)}\"\n",
    "      , \"% of predictions are confident enough\")\n",
    "print(f\"Results on train data: {true_pos}TP, {false_pos}FP, {true_neg}TN, {false_neg}FN\")\n",
    "print(f\"Accuracy = {round((true_pos + true_neg)/(true_pos + true_neg + false_pos + false_neg) * 100, 1)}%\")\n",
    "print(f\"This Strategy returns {round(predicted_return*100)}% Profit.\")"
   ]
  },
  {
   "cell_type": "code",
   "execution_count": 500,
   "metadata": {},
   "outputs": [
    {
     "name": "stdout",
     "output_type": "stream",
     "text": [
      "From 514 predictions:     18 positive     and 35 Negetive\n",
      "With dev=1.5 confidence level,  10 % of predictions are confident enough\n",
      "Results on test data: 14TP, 4FP, 22TN, 13FN\n",
      "Accuracy = 67.9%\n",
      "This Strategy returns 56% Profit.\n"
     ]
    }
   ],
   "source": [
    "# Predict the Test data\n",
    "n_dev_y = 1.5 # confidence level\n",
    "y_test_predicted = model.predict(x_test)\n",
    "y_up = y_test_predicted.mean() + n_dev_y*y_test_predicted.std()\n",
    "y_down = y_test_predicted.mean() - n_dev_y*y_test_predicted.std()\n",
    "print(f\"From {y_test_predicted.shape[0]} predictions: \\\n",
    "    {sum(y_test_predicted>y_up)} positive \\\n",
    "    and {sum(y_test_predicted<y_down)} Negetive\")\n",
    "\n",
    "true_neg , false_neg, true_pos, false_pos = 0, 0, 0, 0\n",
    "predicted_return = 0\n",
    "for i in range(x_test.shape[0]):\n",
    "    if y_test_predicted[i] > y_up or y_test_predicted[i] < y_down:\n",
    "        #print(f\"y={round(y_real_test[i], 1)} predicted={round(y_test_predicted[i], 1)}\")\n",
    "        if y_test_predicted[i] > y_up:\n",
    "            predicted_return += y_real_test[i]\n",
    "            if y_real_test[i] > 0:   true_pos += 1 \n",
    "            elif y_real_test[i] < 0: false_pos += 1\n",
    "        if y_test_predicted[i] < y_down:\n",
    "            predicted_return -= y_real_test[i]\n",
    "            if y_real_test[i] < 0:   true_neg += 1 \n",
    "            elif y_real_test[i] > 0: false_neg += 1\n",
    "\n",
    "print(f\"With dev={n_dev_y} confidence level, \"\n",
    "      , f\"{round((sum(y_test_predicted>y_up)+ sum(y_test_predicted<y_down)) / y_test_predicted.shape[0] *100)}\"\n",
    "      , \"% of predictions are confident enough\")                \n",
    "print(f\"Results on test data: {true_pos}TP, {false_pos}FP, {true_neg}TN, {false_neg}FN\")\n",
    "print(f\"Accuracy = {round((true_pos + true_neg)/(true_pos + true_neg + false_pos + false_neg) * 100, 1)}%\")\n",
    "print(f\"This Strategy returns {round(predicted_return*100)}% Profit.\")"
   ]
  },
  {
   "cell_type": "markdown",
   "metadata": {},
   "source": [
    "### This was not an accurate approach!"
   ]
  },
  {
   "cell_type": "code",
   "execution_count": 465,
   "metadata": {},
   "outputs": [],
   "source": [
    "# Developed by Reza Alavi(2022)"
   ]
  },
  {
   "cell_type": "code",
   "execution_count": null,
   "metadata": {},
   "outputs": [],
   "source": []
  }
 ],
 "metadata": {
  "kernelspec": {
   "display_name": "Python 3 (ipykernel)",
   "language": "python",
   "name": "python3"
  },
  "language_info": {
   "codemirror_mode": {
    "name": "ipython",
    "version": 3
   },
   "file_extension": ".py",
   "mimetype": "text/x-python",
   "name": "python",
   "nbconvert_exporter": "python",
   "pygments_lexer": "ipython3",
   "version": "3.9.7"
  }
 },
 "nbformat": 4,
 "nbformat_minor": 4
}
