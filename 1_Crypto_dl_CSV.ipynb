{
 "cells": [
  {
   "cell_type": "markdown",
   "metadata": {},
   "source": [
    "## Crypto data downloader"
   ]
  },
  {
   "cell_type": "code",
   "execution_count": 4,
   "metadata": {},
   "outputs": [
    {
     "name": "stdout",
     "output_type": "stream",
     "text": [
      "Pair : BTC-USDT\n"
     ]
    }
   ],
   "source": [
    "starting_date = '2017-01-01T00:00:00Z'\n",
    "ending_date = '2022-04-25T00:00:00Z'\n",
    "pair = 'BTC/USDT'\n",
    "tf = \"1d\"\n",
    "exchange = 'Binance'\n",
    "\n",
    "to_present = True\n",
    "pair_id = pair.split('/')[0] + \"-\" + pair.split('/')[-1]\n",
    "print(\"Pair : \" + pair_id)"
   ]
  },
  {
   "cell_type": "code",
   "execution_count": 5,
   "metadata": {},
   "outputs": [
    {
     "name": "stdout",
     "output_type": "stream",
     "text": [
      "2022-04-27T15:19:05.080Z Loading markets\n",
      "2022-04-27T15:19:05.080Z Markets loaded\n",
      "Fetching candles starting from 2017-01-01T00:00:00.000Z\n",
      "Fetching candles starting from 2018-12-30T00:00:00.000Z\n",
      "Fetching candles starting from 2020-05-13T00:00:00.000Z\n",
      "Fetching candles starting from 2021-09-25T00:00:00.000Z\n"
     ]
    }
   ],
   "source": [
    "import ccxt\n",
    "from datetime import datetime as dt\n",
    "from freqtrade.data.converter import ohlcv_to_dataframe\n",
    "import pandas as pd\n",
    "import time\n",
    "\n",
    "exchange_dict = {'Binance':ccxt.binance(),\n",
    "                'Kucoin':ccxt.kucoin(),\n",
    "                'Coinex':ccxt.coinex(),\n",
    "                'Kraken':ccxt.kraken(),\n",
    "                'Coinbase':ccxt.coinbase()}\n",
    "ex = exchange_dict[exchange]\n",
    "\n",
    "print(ex.iso8601(ex.milliseconds()), 'Loading markets')\n",
    "#markets = ex.load_markets()\n",
    "print(ex.iso8601(ex.milliseconds()), 'Markets loaded')\n",
    "\n",
    "from_timestamp = ex.parse8601(starting_date)\n",
    "if to_present:\n",
    "    now = ex.milliseconds()\n",
    "else:\n",
    "    now = ex.parse8601(ending_date)\n",
    "df_list = []\n",
    "while from_timestamp < now:\n",
    "    print('Fetching candles starting from', ex.iso8601(from_timestamp))\n",
    "    try:\n",
    "        ohlcvs = ex.fetch_ohlcv(pair, tf, from_timestamp)\n",
    "    except:\n",
    "        print(\"Retrying...\")\n",
    "        continue\n",
    "    time.sleep(ex.rateLimit / 1000)\n",
    "    if not len(ohlcvs):\n",
    "        break\n",
    "    from_timestamp = ohlcvs[-1][0] + ex.parse_timeframe(tf) * 1000\n",
    "    df_list.append(ohlcv_to_dataframe(ohlcvs, tf, pair=pair, drop_incomplete=False))"
   ]
  },
  {
   "cell_type": "code",
   "execution_count": 6,
   "metadata": {},
   "outputs": [
    {
     "name": "stdout",
     "output_type": "stream",
     "text": [
      "Starting date : 2017-08-17 00:00:00+00:00\n",
      "Ending date : 2022-04-27 00:00:00+00:00\n",
      "--> Saved to BTC-USDT_1d.csv .\n"
     ]
    }
   ],
   "source": [
    "df = pd.concat(df_list, axis=0)\n",
    "df.reset_index(inplace=True)\n",
    "df.drop('index', axis=1, inplace=True)\n",
    "print('Starting date :', df['date'].iloc[0])\n",
    "print('Ending date :', df['date'].iloc[-1])\n",
    "path = f\"{pair_id}_{tf}.csv\"\n",
    "df.to_csv(path, index=False)\n",
    "print(f'--> Saved to {path} .')"
   ]
  },
  {
   "cell_type": "code",
   "execution_count": 7,
   "metadata": {},
   "outputs": [
    {
     "name": "stdout",
     "output_type": "stream",
     "text": [
      "DF size:  1715 rows\n"
     ]
    },
    {
     "data": {
      "text/html": [
       "<div>\n",
       "<style scoped>\n",
       "    .dataframe tbody tr th:only-of-type {\n",
       "        vertical-align: middle;\n",
       "    }\n",
       "\n",
       "    .dataframe tbody tr th {\n",
       "        vertical-align: top;\n",
       "    }\n",
       "\n",
       "    .dataframe thead th {\n",
       "        text-align: right;\n",
       "    }\n",
       "</style>\n",
       "<table border=\"1\" class=\"dataframe\">\n",
       "  <thead>\n",
       "    <tr style=\"text-align: right;\">\n",
       "      <th></th>\n",
       "      <th>date</th>\n",
       "      <th>open</th>\n",
       "      <th>high</th>\n",
       "      <th>low</th>\n",
       "      <th>close</th>\n",
       "      <th>volume</th>\n",
       "    </tr>\n",
       "  </thead>\n",
       "  <tbody>\n",
       "    <tr>\n",
       "      <th>0</th>\n",
       "      <td>2017-08-17 00:00:00+00:00</td>\n",
       "      <td>4261.48</td>\n",
       "      <td>4485.39</td>\n",
       "      <td>4200.74</td>\n",
       "      <td>4285.08</td>\n",
       "      <td>795.150377</td>\n",
       "    </tr>\n",
       "    <tr>\n",
       "      <th>1</th>\n",
       "      <td>2017-08-18 00:00:00+00:00</td>\n",
       "      <td>4285.08</td>\n",
       "      <td>4371.52</td>\n",
       "      <td>3938.77</td>\n",
       "      <td>4108.37</td>\n",
       "      <td>1199.888264</td>\n",
       "    </tr>\n",
       "    <tr>\n",
       "      <th>2</th>\n",
       "      <td>2017-08-19 00:00:00+00:00</td>\n",
       "      <td>4108.37</td>\n",
       "      <td>4184.69</td>\n",
       "      <td>3850.00</td>\n",
       "      <td>4139.98</td>\n",
       "      <td>381.309763</td>\n",
       "    </tr>\n",
       "    <tr>\n",
       "      <th>3</th>\n",
       "      <td>2017-08-20 00:00:00+00:00</td>\n",
       "      <td>4120.98</td>\n",
       "      <td>4211.08</td>\n",
       "      <td>4032.62</td>\n",
       "      <td>4086.29</td>\n",
       "      <td>467.083022</td>\n",
       "    </tr>\n",
       "    <tr>\n",
       "      <th>4</th>\n",
       "      <td>2017-08-21 00:00:00+00:00</td>\n",
       "      <td>4069.13</td>\n",
       "      <td>4119.62</td>\n",
       "      <td>3911.79</td>\n",
       "      <td>4016.00</td>\n",
       "      <td>691.743060</td>\n",
       "    </tr>\n",
       "  </tbody>\n",
       "</table>\n",
       "</div>"
      ],
      "text/plain": [
       "                        date     open     high      low    close       volume\n",
       "0  2017-08-17 00:00:00+00:00  4261.48  4485.39  4200.74  4285.08   795.150377\n",
       "1  2017-08-18 00:00:00+00:00  4285.08  4371.52  3938.77  4108.37  1199.888264\n",
       "2  2017-08-19 00:00:00+00:00  4108.37  4184.69  3850.00  4139.98   381.309763\n",
       "3  2017-08-20 00:00:00+00:00  4120.98  4211.08  4032.62  4086.29   467.083022\n",
       "4  2017-08-21 00:00:00+00:00  4069.13  4119.62  3911.79  4016.00   691.743060"
      ]
     },
     "execution_count": 7,
     "metadata": {},
     "output_type": "execute_result"
    }
   ],
   "source": [
    "df_csv = pd.read_csv(path)\n",
    "print('DF size: ', df_csv.shape[0], 'rows')\n",
    "df_csv.head()"
   ]
  },
  {
   "cell_type": "code",
   "execution_count": null,
   "metadata": {},
   "outputs": [],
   "source": []
  }
 ],
 "metadata": {
  "kernelspec": {
   "display_name": "Python 3 (ipykernel)",
   "language": "python",
   "name": "python3"
  },
  "language_info": {
   "codemirror_mode": {
    "name": "ipython",
    "version": 3
   },
   "file_extension": ".py",
   "mimetype": "text/x-python",
   "name": "python",
   "nbconvert_exporter": "python",
   "pygments_lexer": "ipython3",
   "version": "3.9.7"
  }
 },
 "nbformat": 4,
 "nbformat_minor": 4
}
